{
 "cells": [
  {
   "cell_type": "code",
   "execution_count": null,
   "id": "9d670061",
   "metadata": {},
   "outputs": [],
   "source": [
    "%load_ext autoreload\n",
    "%autoreload 2\n",
    "%matplotlib inline"
   ]
  },
  {
   "cell_type": "code",
   "execution_count": null,
   "id": "e164f978",
   "metadata": {},
   "outputs": [],
   "source": [
    "from qmiotools.integrations.tkbackend import Qmio\n"
   ]
  },
  {
   "cell_type": "code",
   "execution_count": null,
   "id": "4fc0cc7c",
   "metadata": {
    "scrolled": true
   },
   "outputs": [],
   "source": [
    "%matplotlib inline\n",
    "Q=Qmio()\n",
    "print(Q._backend_version)\n",
    "Q.draw_graph()"
   ]
  },
  {
   "cell_type": "code",
   "execution_count": null,
   "id": "f39814f8",
   "metadata": {},
   "outputs": [],
   "source": [
    "render_circuit_jupyter(bell)\n",
    "    "
   ]
  },
  {
   "cell_type": "code",
   "execution_count": null,
   "id": "aa9e5704",
   "metadata": {
    "scrolled": true
   },
   "outputs": [],
   "source": [
    "#placement={bell.qubits[0]:0,bell.qubits[1]:1,bell.qubits[2]:2}\n",
    "ibell=Q.get_compiled_circuit(bell,1)\n",
    "render_circuit_jupyter(ibell)\n"
   ]
  },
  {
   "cell_type": "markdown",
   "id": "5a4594c7",
   "metadata": {},
   "source": [
    "# THIS CELL ONLY WORKS WHEN EXECUTED IN A NODE CONNECTED TO THE QPU"
   ]
  },
  {
   "cell_type": "code",
   "execution_count": null,
   "id": "13a3f2d4",
   "metadata": {},
   "outputs": [],
   "source": [
    "br=Q.run_circuit(ibell,n_shots=5000)"
   ]
  },
  {
   "cell_type": "code",
   "execution_count": null,
   "id": "cf9412d2",
   "metadata": {},
   "outputs": [],
   "source": [
    "br=Q.run_circuits([ibell,ibell],n_shots=5000)"
   ]
  },
  {
   "cell_type": "code",
   "execution_count": null,
   "id": "b44a4b56",
   "metadata": {},
   "outputs": [],
   "source": [
    "r=Q.run_circuits([ibell,ibell],n_shots=[5000,1000])"
   ]
  }
 ],
 "metadata": {
  "kernelspec": {
   "display_name": "Python 3 (ipykernel)",
   "language": "python",
   "name": "python3"
  },
  "language_info": {
   "codemirror_mode": {
    "name": "ipython",
    "version": 3
   },
   "file_extension": ".py",
   "mimetype": "text/x-python",
   "name": "python",
   "nbconvert_exporter": "python",
   "pygments_lexer": "ipython3",
   "version": "3.9.9"
  }
 },
 "nbformat": 4,
 "nbformat_minor": 5
}
