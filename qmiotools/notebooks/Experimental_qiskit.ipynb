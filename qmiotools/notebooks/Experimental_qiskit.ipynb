{
 "cells": [
  {
   "cell_type": "code",
   "execution_count": null,
   "id": "e3659971",
   "metadata": {
    "scrolled": true
   },
   "outputs": [],
   "source": [
    "%load_ext autoreload\n",
    "%autoreload 2\n",
    "%matplotlib inline\n"
   ]
  },
  {
   "cell_type": "markdown",
   "id": "ce98fa6e",
   "metadata": {},
   "source": [
    "### Import the QmioBackend code"
   ]
  },
  {
   "cell_type": "code",
   "execution_count": null,
   "id": "f09547f1",
   "metadata": {
    "scrolled": true
   },
   "outputs": [],
   "source": [
    "from qmiotools.integrations.qiskitqmio import QmioBackend\n",
    "from qmio import QmioRuntimeService"
   ]
  },
  {
   "cell_type": "code",
   "execution_count": null,
   "id": "6e0d1cde",
   "metadata": {},
   "outputs": [],
   "source": [
    "from qiskit.circuit import QuantumCircuit, Parameter\n",
    "from qiskit import transpile\n",
    "from qiskit.visualization import plot_gate_map\n",
    "from qiskit import qasm3"
   ]
  },
  {
   "cell_type": "code",
   "execution_count": null,
   "id": "69dd2da3",
   "metadata": {},
   "outputs": [],
   "source": [
    "c=QuantumCircuit(4)\n",
    "a=Parameter(\"a\")\n",
    "c.h(0)\n",
    "c.cry(a, 0,1)\n",
    "c.measure_all()\n",
    "c.draw(output=\"mpl\")"
   ]
  },
  {
   "cell_type": "code",
   "execution_count": null,
   "id": "25d5d28e",
   "metadata": {},
   "outputs": [],
   "source": [
    "c2=QuantumCircuit(4)\n",
    "a=Parameter(\"a\")\n",
    "b=Parameter(\"b\")\n",
    "c2.h(0)\n",
    "c2.ry(a, 0)\n",
    "c2.ry(b, 1)\n",
    "c2.cx(0,1)\n",
    "c2.measure_all()\n",
    "c2.draw(output=\"mpl\")"
   ]
  },
  {
   "cell_type": "code",
   "execution_count": null,
   "id": "c97cf208",
   "metadata": {},
   "outputs": [],
   "source": [
    "qmio=QmioBackend()"
   ]
  },
  {
   "cell_type": "code",
   "execution_count": null,
   "id": "1ef9ee81",
   "metadata": {},
   "outputs": [],
   "source": [
    "d=transpile(c,qmio)\n",
    "print(d.depth())\n",
    "d.draw(output=\"mpl\")"
   ]
  },
  {
   "cell_type": "code",
   "execution_count": null,
   "id": "8b25ce4f",
   "metadata": {},
   "outputs": [],
   "source": [
    "d=transpile(c2,qmio)\n",
    "print(d.depth())\n",
    "d.draw(output=\"mpl\")"
   ]
  },
  {
   "cell_type": "code",
   "execution_count": null,
   "id": "dfbf317c",
   "metadata": {},
   "outputs": [],
   "source": [
    "from qmio.backends import QPUBackend, _config_build\n",
    "def run2(self, circuit, shots, repetition_period=400e-6):\n",
    "    if not self.client:\n",
    "        raise RuntimeError(\"Not connected to the server\")\n",
    "    print(\"LLamando a run2 con %f\"%repetition_period)\n",
    "\n",
    "    config = _config_build(shots,repetition_period=repetition_period)\n",
    "    #print(config)\n",
    "    job = (circuit, config)\n",
    "    self.client._send(job)\n",
    "    result = self.client._await_results()\n",
    "    return result\n",
    "\n",
    "    \n",
    "class QmioRuntimeService():\n",
    "    QPUBackend.run=run2\n",
    "    def backend(self, name):\n",
    "        if name == \"qpu\":\n",
    "            return QPUBackend()\n",
    "        # if name == \"qulacs\":\n",
    "        #     pass\n",
    "        else:\n",
    "            raise ValueError(f\"Backend unknown: {name}\")"
   ]
  },
  {
   "cell_type": "markdown",
   "id": "4837b5d6",
   "metadata": {},
   "source": [
    "### Create an instance of the QMIO backend, loading he last calibration from the directory given by the QMIO_CALIBRATIONS environ"
   ]
  },
  {
   "cell_type": "code",
   "execution_count": null,
   "id": "a2f2a453",
   "metadata": {},
   "outputs": [],
   "source": [
    "from typing import Union, List\n",
    "#from qiskit.circuit import Schedule\n",
    "from qiskit.pulse import Schedule\n",
    "from qiskit.providers import QubitProperties, BackendV2, Provider, Options, Job, JobStatus\n",
    "\n",
    "from qmiotools.integrations.qiskitqmio import QmioJob\n",
    "\n",
    "from datetime import date\n",
    "import uuid\n",
    "from dataclasses import dataclass\n",
    "from qiskit.result import Result, Counts \n",
    "\n",
    "class QPUException(Exception):\n",
    "    pass\n",
    "\n",
    "def run2(self, circuit, shots, repetition_period=400e-6):\n",
    "    if not self.client:\n",
    "        raise RuntimeError(\"Not connected to the server\")\n",
    "    print(\"LLamando a run2 con %f\"%repetition_period)\n",
    "\n",
    "    config = _config_build(shots,repetition_period=repetition_period)\n",
    "    #print(config)\n",
    "    job = (circuit, config)\n",
    "    self.client._send(job)\n",
    "    result = self.client._await_results()\n",
    "    return result\n",
    "@dataclass\n",
    "class QasmCircuit():\n",
    "    circuit=None\n",
    "    name=None\n",
    "    \n",
    "class QmioRuntimeService():\n",
    "    QPUBackend.run=run2\n",
    "    def backend(self, name):\n",
    "        if name == \"qpu\":\n",
    "            return QPUBackend()\n",
    "        # if name == \"qulacs\":\n",
    "        #     pass\n",
    "        else:\n",
    "            raise ValueError(f\"Backend unknown: {name}\")\n",
    "def run_experimental(self, run_input: Union[Union[QuantumCircuit,Schedule, str],List[Union[QuantumCircuit,Schedule,str]]], **options):\n",
    "    \"\"\"Run on the backend.\n",
    "\n",
    "\n",
    "\n",
    "    Args:\n",
    "        run_input (QuantumCircuit or Schedule or Str - a QASM string - or list): An\n",
    "            individual or a list of :class:`.QuantumCircuit`,\n",
    "            or :class:`~qiskit.pulse.Schedule` or a string with a QASM 3.0 objects to\n",
    "            run on the backend.\n",
    "        options: Any kwarg options to pass to the backend for running the\n",
    "            config. If a key is also present in the options\n",
    "            attribute/object then the expectation is that the value\n",
    "            specified will be used instead of what's set in the options\n",
    "            object.\n",
    "\n",
    "    Returns:\n",
    "        Job: The job object for the run\n",
    "    \"\"\"\n",
    "\n",
    "    if isinstance(options,Options):\n",
    "        shots=options.get(\"shots\",default=self._options.get(\"shots\"))\n",
    "        memory=options.get(\"memory\",default=self._options.get(\"shots\"))\n",
    "        repetition_period=options.get(\"repetition_period\",default=self._options.get(\"repetition_period\"))\n",
    "    else:\n",
    "        if \"shots\" in options:\n",
    "            shots=options[\"shots\"]\n",
    "        else:\n",
    "            shots=self._options.get(\"shots\")\n",
    "\n",
    "        if \"memory\" in options:\n",
    "            shots=options[\"memory\"]\n",
    "        else:\n",
    "            memory=self._options.get(\"memory\")\n",
    "\n",
    "        if \"repetition_period\" in options:\n",
    "            repetition_period=options[\"repetition_period\"]\n",
    "        else:\n",
    "            repetition_period=self._options.get(\"repetition_period\")\n",
    "\n",
    "\n",
    "    if isinstance(run_input,QuantumCircuit) or isinstance(run_input,Schedule) or isinstance(run_input,str):\n",
    "        circuits=[run_input]\n",
    "    else:\n",
    "        circuits=run_input\n",
    "\n",
    "    if shots*len(circuits) > self.max_shots:\n",
    "        raise RuntimeError(\"Total number of shots %d larger than capacity %d\"%(shots,self.max_shots))\n",
    "\n",
    "\n",
    "    service = QmioRuntimeService()\n",
    "    #print(service)\n",
    "    job_id=uuid.uuid4()\n",
    "    ExpResult=[]\n",
    "    with service.backend(name=\"qpu\") as backend:\n",
    "        for c in circuits:\n",
    "            if isinstance(c,QuantumCircuit) or isinstance(c,Schedule):\n",
    "                qasm=qasm3.dumps(c, basis_gates=self.operation_names).replace(\"\\n\",\"\")\n",
    "                print(qasm)\n",
    "            else:\n",
    "                qasm=c\n",
    "            remain_shots=shots\n",
    "            ExpDict={}\n",
    "            backend.run2=run2\n",
    "\n",
    "            while (remain_shots > 0):\n",
    "                results = backend.run(circuit=qasm, shots=min(self._max_shots,remain_shots),repetition_period=repetition_period)\n",
    "                #print(\"Results:\",results)\n",
    "                if \"Exception\" in results:\n",
    "                    raise QPUException(results[\"Exception\"])\n",
    "                try:\n",
    "                    r=results[\"results\"][list(results[\"results\"].keys())[0]]\n",
    "                except:\n",
    "                    raise QPUException(\"QPU does not return results\")\n",
    "                for k in r:\n",
    "                    if not memory:\n",
    "                        key=hex(int(k[::-1],base=2))\n",
    "                        ExpDict[key]=ExpDict[key]+r[k] if key in ExpDict else r[k]\n",
    "                    else:\n",
    "                        raise RuntimeError(\"Binary for the next version\")\n",
    "                remain_shots=remain_shots-self._max_shots\n",
    "            metadata=None\n",
    "            #print(ExpDict)\n",
    "            if \"execution_metrics\" in results:\n",
    "                metadata=results[\"execution_metrics\"] \n",
    "            \"\"\"ExpResult.append(ExperimentResult(\n",
    "                shots,\n",
    "                success=True,\n",
    "                data=Counts(ExpDict),\n",
    "                meas_level=MeasLevel.CLASSIFIED,\n",
    "                status=None,\n",
    "                seed=None,\n",
    "                meas_return=None,\n",
    "                header=QobjExperimentHeader.from_dict({\"name\":c.name,\"metadata\":metadata})))\"\"\"\n",
    "            if isinstance(c,str):\n",
    "                c_copy=c\n",
    "                c=QasmCircuit()\n",
    "                c.circuit=c_copy\n",
    "                c.name=\"QASM\"\n",
    "                print(c)\n",
    "                \n",
    "            dd={\n",
    "                'shots': shots,\n",
    "                'success': True,\n",
    "                'data': {\n",
    "\n",
    "                    'counts': ExpDict,\n",
    "                    'metadata': None,\n",
    "                },\n",
    "                'header': {'name': c.name},\n",
    "\n",
    "                }\n",
    "            ExpResult.append(dd)\n",
    "\n",
    "    result_dict = {\n",
    "        'backend_name': self._name,\n",
    "        'backend_version': self._version,\n",
    "        'qobj_id': None,\n",
    "        'job_id': job_id,\n",
    "        'success': True,\n",
    "        'results': ExpResult,\n",
    "        'date': date.today().isoformat(),\n",
    "\n",
    "    }\n",
    "    #print(ExpResult)\n",
    "    results=Result.from_dict(result_dict)\n",
    "    \n",
    "    job=QmioJob(backend=self,job_id=uuid.uuid4(), jobstatus=JobStatus.DONE, \n",
    "result=results)\n",
    "    return job\n",
    "\n",
    "QmioBackend.run=run_experimental\n",
    "backend=QmioBackend()"
   ]
  },
  {
   "cell_type": "code",
   "execution_count": null,
   "id": "f4661009",
   "metadata": {},
   "outputs": [],
   "source": [
    "backend=QmioBackend()"
   ]
  },
  {
   "cell_type": "code",
   "execution_count": null,
   "id": "81c8bd1d",
   "metadata": {},
   "outputs": [],
   "source": [
    "%matplotlib inline\n",
    "c=QuantumCircuit(2)\n",
    "c.h(0)\n",
    "c.cx(0,1)\n",
    "c.measure_all()\n",
    "c.draw(output=\"mpl\")"
   ]
  },
  {
   "cell_type": "code",
   "execution_count": null,
   "id": "ec89c5ce",
   "metadata": {},
   "outputs": [],
   "source": [
    "d=c.copy()\n",
    "d.draw(output=\"mpl\")"
   ]
  },
  {
   "cell_type": "code",
   "execution_count": null,
   "id": "8f210255",
   "metadata": {},
   "outputs": [],
   "source": [
    "qc_basis = transpile(c, backend)\n",
    "#qc_basis.draw(output=\"mpl\")"
   ]
  },
  {
   "cell_type": "code",
   "execution_count": null,
   "id": "870095cb",
   "metadata": {},
   "outputs": [],
   "source": [
    "qd_basis = transpile(d, backend)\n",
    "#qd_basis.draw(output=\"mpl\")"
   ]
  },
  {
   "cell_type": "code",
   "execution_count": null,
   "id": "b213da86",
   "metadata": {},
   "outputs": [],
   "source": [
    "c=QuantumCircuit(2)\n",
    "c.measure_all()\n",
    "c.delay(1e-6,unit=\"s\")\n",
    "c.name=\"ONLY INIT\"\n",
    "qasm3.dumps(c)"
   ]
  },
  {
   "cell_type": "code",
   "execution_count": null,
   "id": "46883d7d",
   "metadata": {},
   "outputs": [],
   "source": [
    "shots=200\n",
    "repetition_period=0.1\n",
    "job=backend.run([c,d], shots=shots, repetition_period=repetition_period)"
   ]
  },
  {
   "cell_type": "code",
   "execution_count": null,
   "id": "9a11c1ea",
   "metadata": {},
   "outputs": [],
   "source": [
    "c=QuantumCircuit(2)\n",
    "c.measure_all()\n",
    "#c.delay(1e-6,unit=\"s\")\n",
    "c.name=\"ONLY INIT\"\n",
    "d=QuantumCircuit(2)\n",
    "d.x(0)\n",
    "d.measure_all()\n",
    "d.name=\"X in cubit 0\"\n",
    "c=transpile(c,backend,optimization_level=3)\n",
    "d=transpile(d,backend,optimization_level=2)\n",
    "c.draw()\n",
    "c=\"\"\"\n",
    "OPENQASM 3.0;include \"stdgates.inc\";bit[2] meas;barrier $0, $1;meas[0] = measure $0;meas[1] = measure $1;\n",
    "\"\"\"\n",
    "d=\"\"\"\n",
    "OPENQASM 3.0;include \"stdgates.inc\";bit[2] meas;sx $0;sx $0;barrier $0, $1;meas[0] = measure $0;meas[1] = measure $1;\n",
    "\"\"\"\n",
    "e=\"\"\"\n",
    "OPENQASM 3.0;include \"stdgates.inc\";bit[2] meas;sx $1;sx $1;barrier $0, $1;meas[0] = measure $0;meas[1] = measure $1;\n",
    "\"\"\"\n",
    "\n",
    "print(c)"
   ]
  },
  {
   "cell_type": "markdown",
   "id": "6a93a40e",
   "metadata": {},
   "source": [
    "# These cells only work if executed in a node with connection to the QPU"
   ]
  },
  {
   "cell_type": "code",
   "execution_count": null,
   "id": "25df10d5",
   "metadata": {},
   "outputs": [],
   "source": [
    "shots=200\n",
    "repetition_period=0.1\n",
    "job=backend.run([c,d,e], shots=shots, repetition_period=repetition_period)\n",
    "#print(job.result())\n",
    "print(job.result().get_counts())\n",
    "from qiskit.visualization import plot_histogram\n",
    "plot_histogram(job.result().get_counts(), title=\"Repetition_period=%f\"%repetition_period,legend=[\"ONLY_INIT\",\"X(0)\",\"X(1)\"])"
   ]
  },
  {
   "cell_type": "code",
   "execution_count": null,
   "id": "6605d381",
   "metadata": {},
   "outputs": [],
   "source": [
    "repetition_period=0.01\n",
    "job=backend.run([c,d,e], shots=shots, repetition_period=repetition_period)\n",
    "#print(job.result())\n",
    "print(job.result().get_counts())\n",
    "from qiskit.visualization import plot_histogram\n",
    "plot_histogram(job.result().get_counts(), title=\"Repetition_period=%f\"%repetition_period,legend=[\"ONLY_INIT\",\"X(0)\",\"X(1)\"])"
   ]
  },
  {
   "cell_type": "code",
   "execution_count": null,
   "id": "46a25c3e",
   "metadata": {},
   "outputs": [],
   "source": [
    "repetition_period=0.001\n",
    "job=backend.run([c,d,e], shots=shots, repetition_period=repetition_period)\n",
    "#print(job.result())\n",
    "print(job.result().get_counts())\n",
    "from qiskit.visualization import plot_histogram\n",
    "plot_histogram(job.result().get_counts(), title=\"Repetition_period=%f\"%repetition_period,legend=[\"ONLY_INIT\",\"X(0)\",\"X(1)\"])"
   ]
  },
  {
   "cell_type": "code",
   "execution_count": null,
   "id": "10f320f7",
   "metadata": {},
   "outputs": [],
   "source": [
    "repetition_period=0.0001\n",
    "job=backend.run([c,d,e], shots=shots, repetition_period=repetition_period)\n",
    "#print(job.result())\n",
    "print(job.result().get_counts())\n",
    "from qiskit.visualization import plot_histogram\n",
    "plot_histogram(job.result().get_counts(), title=\"Repetition_period=%f\"%repetition_period,legend=[\"ONLY_INIT\",\"X(0)\",\"X(1)\"])"
   ]
  },
  {
   "cell_type": "code",
   "execution_count": null,
   "id": "6675bc0d",
   "metadata": {},
   "outputs": [],
   "source": [
    "repetition_period=0.00001\n",
    "job=backend.run([c,d,e], shots=shots, repetition_period=repetition_period)\n",
    "#print(job.result())\n",
    "print(job.result().get_counts())\n",
    "from qiskit.visualization import plot_histogram\n",
    "plot_histogram(job.result().get_counts(), title=\"Repetition_period=%f\"%repetition_period,legend=[\"ONLY_INIT\",\"X(0)\",\"X(1)\"])"
   ]
  },
  {
   "cell_type": "code",
   "execution_count": null,
   "id": "45843720",
   "metadata": {},
   "outputs": [],
   "source": [
    "repetition_period=0\n",
    "job=backend.run([c,d,e], shots=shots)\n",
    "#print(job.result())\n",
    "print(job.result().get_counts())\n",
    "from qiskit.visualization import plot_histogram\n",
    "plot_histogram(job.result().get_counts(), title=\"Repetition_period=%f\"%repetition_period,legend=[\"ONLY_INIT\",\"X(0)\",\"X(1)\"])"
   ]
  },
  {
   "cell_type": "code",
   "execution_count": null,
   "id": "43561adb",
   "metadata": {},
   "outputs": [],
   "source": [
    "jobs=[]\n",
    "shots=1000\n",
    "for i in range(10):\n",
    "    repetition_period=100e-6*(i+1)\n",
    "    job=backend.run([c,d,e], shots=shots, repetition_period=repetition_period)\n",
    "    jobs.append(job)\n",
    "    print(repetition_period,job.result().get_counts())\n",
    "    #plot_histogram(job.result().get_counts(), title=\"Repetition_period=%f\"%repetition_period,legend=[\"ONLY_INIT\",\"X(0)\",\"X(1)\"])"
   ]
  },
  {
   "cell_type": "code",
   "execution_count": null,
   "id": "18ca6c69",
   "metadata": {},
   "outputs": [],
   "source": [
    "d=\"\"\"\n",
    "OPENQASM 3.0;include \"stdgates.inc\";bit[1] meas;sx $0;sx $0;delay[{0}us] $0;barrier $0;meas[0] = measure $0;\n",
    "\"\"\"\n",
    "d.format(10)"
   ]
  },
  {
   "cell_type": "code",
   "execution_count": null,
   "id": "43c79aae",
   "metadata": {},
   "outputs": [],
   "source": [
    "import logging\n",
    "type(logging.INFO)\n",
    "logger = logging.getLogger(\"QmioBackend\")\n",
    "\n",
    "logger.setLevel(logging.INFO)\n",
    "formatter = logging.Formatter('%(asctime)s - %(name)s - %(levelname)s - %(message)s')\n",
    "\n",
    "\n",
    "\n",
    "import sys\n",
    "stream_handler = logging.StreamHandler(sys.stdout)\n",
    "logger.addHandler(stream_handler)\n",
    "logger.info(\"kkk\")"
   ]
  },
  {
   "cell_type": "code",
   "execution_count": null,
   "id": "4fc7d18d",
   "metadata": {},
   "outputs": [],
   "source": [
    "import matplotlib.pyplot as plt\n",
    "jobs=[]\n",
    "counts=[]\n",
    "shots=1000\n",
    "Times=20\n",
    "for i in range(Times):\n",
    "    delay=(i)*10\n",
    "    rund=d.format(delay)\n",
    "    repetition_period=400e-6*(i+1)\n",
    "    job=backend.run(rund, shots=shots, repetition_period=500e-6)\n",
    "    jobs.append(job)\n",
    "    print(delay, i,job.result().get_counts())\n",
    "    counts.append(job.result().get_counts()[\"1\"])\n",
    "plt.plot([j*10 for j in range(Times)], counts,\"*\")"
   ]
  },
  {
   "cell_type": "code",
   "execution_count": 4,
   "id": "5d28aec5",
   "metadata": {},
   "outputs": [
    {
     "data": {
      "text/plain": [
       "'\\nOPENQASM 3.0;include \"stdgates.inc\";bit[1] meas;sx $2;sx $2;delay[10us] $2;barrier $2;meas[0] = measure $2;\\n'"
      ]
     },
     "execution_count": 4,
     "metadata": {},
     "output_type": "execute_result"
    }
   ],
   "source": [
    "d=\"\"\"\n",
    "OPENQASM 3.0;include \"stdgates.inc\";bit[1] meas;sx ${0};sx ${0};delay[{1}us] ${0};barrier ${0};meas[0] = measure ${0};\n",
    "\"\"\"\n",
    "d.format(2,10)"
   ]
  },
  {
   "cell_type": "code",
   "execution_count": 3,
   "id": "818ca4da",
   "metadata": {},
   "outputs": [
    {
     "name": "stdout",
     "output_type": "stream",
     "text": [
      "2024-05-30 17:46:24,664 - QmioBackend - INFO - Logging started:\n",
      "2024-05-30 17:46:24,664 - QmioBackend - INFO - Logging started:\n",
      "2024-05-30 17:46:24,668 - QmioBackend - INFO - Loading calibrations\n",
      "2024-05-30 17:46:24,668 - QmioBackend - INFO - Loading calibrations\n",
      "Importing calibrations from  /opt/cesga/qmio/hpc/calibrations/2024_05_24__17_16_00.json\n",
      "len: 32\n"
     ]
    },
    {
     "ename": "QmioException",
     "evalue": "Format Raw not in available formats:['binary_count', 'raw', 'binary', 'squash_binary_result_arrays']",
     "output_type": "error",
     "traceback": [
      "\u001b[0;31m---------------------------------------------------------------------------\u001b[0m",
      "\u001b[0;31mQmioException\u001b[0m                             Traceback (most recent call last)",
      "\u001b[0;32m/scratch/11397/ipykernel_655766/2536106041.py\u001b[0m in \u001b[0;36m<module>\u001b[0;34m\u001b[0m\n\u001b[1;32m      1\u001b[0m \u001b[0;32mfrom\u001b[0m \u001b[0mqmiotools\u001b[0m\u001b[0;34m.\u001b[0m\u001b[0mintegrations\u001b[0m\u001b[0;34m.\u001b[0m\u001b[0mqiskitqmio\u001b[0m \u001b[0;32mimport\u001b[0m \u001b[0mQmioBackend\u001b[0m\u001b[0;34m\u001b[0m\u001b[0;34m\u001b[0m\u001b[0m\n\u001b[1;32m      2\u001b[0m \u001b[0;32mimport\u001b[0m \u001b[0mlogging\u001b[0m\u001b[0;34m\u001b[0m\u001b[0;34m\u001b[0m\u001b[0m\n\u001b[0;32m----> 3\u001b[0;31m \u001b[0mQmioBackend\u001b[0m\u001b[0;34m(\u001b[0m\u001b[0mlogging_level\u001b[0m\u001b[0;34m=\u001b[0m\u001b[0mlogging\u001b[0m\u001b[0;34m.\u001b[0m\u001b[0mINFO\u001b[0m\u001b[0;34m)\u001b[0m\u001b[0;34m.\u001b[0m\u001b[0mrun\u001b[0m\u001b[0;34m(\u001b[0m\u001b[0md\u001b[0m\u001b[0;34m,\u001b[0m\u001b[0mres_format\u001b[0m\u001b[0;34m=\u001b[0m\u001b[0;34m\"Raw\"\u001b[0m\u001b[0;34m)\u001b[0m\u001b[0;34m\u001b[0m\u001b[0;34m\u001b[0m\u001b[0m\n\u001b[0m",
      "\u001b[0;32m~/QMIO/githib/qmiotools/qmiotools/integrations/qiskitqmio.py\u001b[0m in \u001b[0;36mrun\u001b[0;34m(self, run_input, **options)\u001b[0m\n\u001b[1;32m    339\u001b[0m \u001b[0;34m\u001b[0m\u001b[0m\n\u001b[1;32m    340\u001b[0m         \u001b[0;32mif\u001b[0m \u001b[0mres_format\u001b[0m \u001b[0;32mnot\u001b[0m \u001b[0;32min\u001b[0m \u001b[0mFORMATS\u001b[0m\u001b[0;34m:\u001b[0m\u001b[0;34m\u001b[0m\u001b[0;34m\u001b[0m\u001b[0m\n\u001b[0;32m--> 341\u001b[0;31m             \u001b[0;32mraise\u001b[0m \u001b[0mQmioException\u001b[0m\u001b[0;34m(\u001b[0m\u001b[0;34m\"Format %s not in available formats:%s\"\u001b[0m\u001b[0;34m%\u001b[0m\u001b[0;34m(\u001b[0m\u001b[0mres_format\u001b[0m\u001b[0;34m,\u001b[0m\u001b[0mFORMATS\u001b[0m\u001b[0;34m)\u001b[0m\u001b[0;34m)\u001b[0m\u001b[0;34m\u001b[0m\u001b[0;34m\u001b[0m\u001b[0m\n\u001b[0m\u001b[1;32m    342\u001b[0m \u001b[0;34m\u001b[0m\u001b[0m\n\u001b[1;32m    343\u001b[0m         \u001b[0;32mif\u001b[0m \u001b[0misinstance\u001b[0m\u001b[0;34m(\u001b[0m\u001b[0mrun_input\u001b[0m\u001b[0;34m,\u001b[0m\u001b[0mstr\u001b[0m\u001b[0;34m)\u001b[0m \u001b[0;32mand\u001b[0m \u001b[0;32mnot\u001b[0m \u001b[0;34m\"OPENQASM\"\u001b[0m \u001b[0;32min\u001b[0m \u001b[0mrun_input\u001b[0m\u001b[0;34m:\u001b[0m\u001b[0;34m\u001b[0m\u001b[0;34m\u001b[0m\u001b[0m\n",
      "\u001b[0;31mQmioException\u001b[0m: Format Raw not in available formats:['binary_count', 'raw', 'binary', 'squash_binary_result_arrays']"
     ]
    }
   ],
   "source": [
    "from qmiotools.integrations.qiskitqmio import QmioBackend\n",
    "d=\"\"\"\n",
    "OPENQASM 3.0;include \"stdgates.inc\";bit[1] meas;sx $2;sx $2;delay[10us] $2;barrier $2;meas[0] = measure $2;\n",
    "\"\"\"\n",
    "print(\"Salida raw\")\n",
    "for i in ['binary_count', 'raw', 'binary', 'squash_binary_result_arrays']:\n",
    "    print(\"\\n\\n\\nSalida %s\"%i)\n",
    "    try:\n",
    "        QmioBackend().run(d,res_format=i)\n",
    "    except:\n",
    "        pass"
   ]
  },
  {
   "cell_type": "code",
   "execution_count": null,
   "id": "b7646a59",
   "metadata": {},
   "outputs": [],
   "source": [
    "import matplotlib.pyplot as plt\n",
    "jobs=[]\n",
    "counts=[]\n",
    "shots=1000\n",
    "Times=20\n",
    "qubit=0\n",
    "for i in range(Times):\n",
    "    delay=(i)*10\n",
    "    rund=d.format(qubit,delay)\n",
    "    repetition_period=400e-6*(i+1)\n",
    "    job=backend.run(rund, shots=shots, repetition_period=500e-6)\n",
    "    jobs.append(job)\n",
    "    print(delay, i,job.result().get_counts())\n",
    "    counts.append(job.result().get_counts()[\"1\"])\n",
    "plt.plot([j*10 for j in range(Times)], counts,\"*\")\n",
    "plt.title(\"Qubit %d\"%qubit)"
   ]
  },
  {
   "cell_type": "code",
   "execution_count": null,
   "id": "012297d8",
   "metadata": {},
   "outputs": [],
   "source": [
    "import matplotlib.pyplot as plt\n",
    "jobs=[]\n",
    "counts=[]\n",
    "shots=1000\n",
    "Times=20\n",
    "qubit=1\n",
    "for i in range(Times):\n",
    "    delay=(i)*10\n",
    "    rund=d.format(qubit,delay)\n",
    "    print(rund)\n",
    "    repetition_period=400e-6*(i+1)\n",
    "    job=backend.run(rund, shots=shots, repetition_period=500e-6)\n",
    "    jobs.append(job)\n",
    "    print(delay, i,job.result().get_counts())\n",
    "    counts.append(job.result().get_counts()[\"1\"])\n",
    "plt.plot([j*10 for j in range(Times)], counts,\"*\")\n",
    "plt.title(\"Qubit %d\"%qubit)"
   ]
  },
  {
   "cell_type": "code",
   "execution_count": null,
   "id": "4b5c7e6f",
   "metadata": {},
   "outputs": [],
   "source": [
    "import matplotlib.pyplot as plt\n",
    "jobs=[]\n",
    "counts=[]\n",
    "shots=1000\n",
    "Times=20\n",
    "qubit=2\n",
    "for i in range(Times):\n",
    "    delay=(i)*10\n",
    "    rund=d.format(qubit,delay)\n",
    "    print(rund)\n",
    "    repetition_period=400e-6*(i+1)\n",
    "    job=backend.run(rund, shots=shots, repetition_period=500e-6)\n",
    "    jobs.append(job)\n",
    "    print(delay, i,job.result().get_counts())\n",
    "    counts.append(job.result().get_counts()[\"1\"])\n",
    "plt.plot([j*10 for j in range(Times)], counts,\"*\")\n",
    "plt.title(\"Qubit %d\"%qubit)"
   ]
  },
  {
   "cell_type": "code",
   "execution_count": null,
   "id": "ccc53287",
   "metadata": {},
   "outputs": [],
   "source": [
    "c=QuantumCircuit(2)\n",
    "c.x(0)\n",
    "c.delay(1, unit=\"us\")\n",
    "c.measure_all()\n",
    "c.name=\"ONLY INIT\"\n",
    "qasm3.dumps(c)"
   ]
  },
  {
   "cell_type": "code",
   "execution_count": null,
   "id": "44844562",
   "metadata": {},
   "outputs": [],
   "source": [
    "job=backend.run(c, shots=shots, repetition_period=repetition_period)"
   ]
  },
  {
   "cell_type": "code",
   "execution_count": null,
   "id": "42b1a7aa",
   "metadata": {},
   "outputs": [],
   "source": []
  }
 ],
 "metadata": {
  "kernelspec": {
   "display_name": "Python 3 (ipykernel)",
   "language": "python",
   "name": "python3"
  },
  "language_info": {
   "codemirror_mode": {
    "name": "ipython",
    "version": 3
   },
   "file_extension": ".py",
   "mimetype": "text/x-python",
   "name": "python",
   "nbconvert_exporter": "python",
   "pygments_lexer": "ipython3",
   "version": "3.9.9"
  }
 },
 "nbformat": 4,
 "nbformat_minor": 5
}
