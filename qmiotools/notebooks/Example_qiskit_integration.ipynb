{
 "cells": [
  {
   "cell_type": "code",
   "execution_count": null,
   "id": "e3659971",
   "metadata": {
    "scrolled": true
   },
   "outputs": [],
   "source": [
    "%load_ext autoreload\n",
    "%autoreload 2\n",
    "%matplotlib inline\n"
   ]
  },
  {
   "cell_type": "markdown",
   "id": "ce98fa6e",
   "metadata": {},
   "source": [
    "### Import the QmioBackend code"
   ]
  },
  {
   "cell_type": "code",
   "execution_count": null,
   "id": "f09547f1",
   "metadata": {
    "scrolled": true
   },
   "outputs": [],
   "source": [
    "from qmiotools.integrations.qiskitqmio import QmioBackend"
   ]
  },
  {
   "cell_type": "code",
   "execution_count": null,
   "id": "6e0d1cde",
   "metadata": {},
   "outputs": [],
   "source": [
    "from qiskit.circuit import QuantumCircuit\n",
    "from qiskit import transpile\n",
    "from qiskit.visualization import plot_gate_map"
   ]
  },
  {
   "cell_type": "markdown",
   "id": "4837b5d6",
   "metadata": {},
   "source": [
    "### Create an instance of the QMIO backend, loading he last calibration from the directory given by the QMIO_CALIBRATIONS environ"
   ]
  },
  {
   "cell_type": "code",
   "execution_count": null,
   "id": "ea1b709f",
   "metadata": {},
   "outputs": [],
   "source": [
    "backend=QmioBackend(\"/home/cesga/agomez/QMIO/qmio/qmiotools/calibrations/2024_05_11__13_27_21.json\")"
   ]
  },
  {
   "cell_type": "code",
   "execution_count": null,
   "id": "81c8bd1d",
   "metadata": {},
   "outputs": [],
   "source": [
    "%matplotlib inline\n",
    "c=QuantumCircuit(2)\n",
    "c.h(0)\n",
    "c.cx(0,1)\n",
    "c.measure_all()\n",
    "c.draw(output=\"mpl\")"
   ]
  },
  {
   "cell_type": "code",
   "execution_count": null,
   "id": "ec89c5ce",
   "metadata": {},
   "outputs": [],
   "source": [
    "d=c.copy()\n",
    "d.draw(output=\"mpl\")"
   ]
  },
  {
   "cell_type": "code",
   "execution_count": null,
   "id": "8f210255",
   "metadata": {},
   "outputs": [],
   "source": [
    "\n",
    "qc_basis = transpile(c, backend)\n",
    "qc_basis.draw(output=\"mpl\")"
   ]
  },
  {
   "cell_type": "code",
   "execution_count": null,
   "id": "870095cb",
   "metadata": {},
   "outputs": [],
   "source": [
    "qd_basis = transpile(d, backend)\n",
    "qd_basis.draw(output=\"mpl\")"
   ]
  },
  {
   "cell_type": "markdown",
   "id": "6a93a40e",
   "metadata": {},
   "source": [
    "# These cells only work if executed in a node with connection to the QPU"
   ]
  },
  {
   "cell_type": "code",
   "execution_count": null,
   "id": "25df10d5",
   "metadata": {},
   "outputs": [],
   "source": [
    "job=backend.run([c,d], shots=10000)\n",
    "job.result().get_counts(c)\n",
    "from qiskit.visualization import plot_histogram\n",
    "plot_histogram(job.result().get_counts(), title=\"Without Optimisation\")"
   ]
  },
  {
   "cell_type": "code",
   "execution_count": null,
   "id": "d5307386",
   "metadata": {},
   "outputs": [],
   "source": [
    "job=backend.run([qc_basis,qd_basis])\n",
    "print(job.result().get_counts(qc_basis))\n",
    "from qiskit.visualization import plot_histogram\n",
    "plot_histogram(job.result().get_counts(),title=\"With Optimisation\")"
   ]
  },
  {
   "cell_type": "code",
   "execution_count": null,
   "id": "ce6f55f6",
   "metadata": {},
   "outputs": [],
   "source": [
    "print(backend.target.build_coupling_map())"
   ]
  },
  {
   "cell_type": "code",
   "execution_count": null,
   "id": "12837b25",
   "metadata": {},
   "outputs": [],
   "source": [
    "import numpy as np\n",
    "qc = QuantumCircuit(2, 2)\n",
    " \n",
    "qc.h(0)\n",
    "qc.x(1)\n",
    "qc.cp(np.pi/4, 0, 1)\n",
    "qc.h(0)\n",
    "qc.measure([0], [0])\n",
    "qc.measure([1], [1])\n",
    " \n",
    "qc_basis = transpile(qc, backend)\n",
    "qc_basis.name=c.name+\"_opt\"\n",
    "qc_basis.draw(output=\"mpl\")"
   ]
  },
  {
   "cell_type": "code",
   "execution_count": null,
   "id": "f303abea",
   "metadata": {},
   "outputs": [],
   "source": [
    "job=backend.run([qc,qc_basis])\n",
    "job.result().get_counts(qc)\n",
    "from qiskit.visualization import plot_histogram\n",
    "plot_histogram(job.result().get_counts(), title=\"Comparing Optimisation\")"
   ]
  },
  {
   "cell_type": "code",
   "execution_count": null,
   "id": "2cbbfbc4",
   "metadata": {},
   "outputs": [],
   "source": [
    "nqubits=3\n",
    "ghz = QuantumCircuit(nqubits)\n",
    "ghz.h(0)\n",
    "ghz.cx(0, range(1, nqubits))\n",
    "ghz.measure_all()\n",
    "try:\n",
    "    ghz_0=transpile(ghz,backend,optimization_level=0)\n",
    "    job=backend.run(ghz_0)\n",
    "    job.result().get_counts(ghz_0)\n",
    "    plot_histogram(job.result().get_counts(), title=\"Comparing Optimisation\")\n",
    "except:\n",
    "    print(\"ERROR: No está arreglado este punto\")"
   ]
  },
  {
   "cell_type": "code",
   "execution_count": null,
   "id": "4e8276e3",
   "metadata": {},
   "outputs": [],
   "source": [
    "ghz_1=transpile(ghz,backend,optimization_level=1)\n",
    "ghz_1.name=ghz_1.name+\"_1\"\n",
    "ghz_2=transpile(ghz,backend,optimization_level=2)\n",
    "ghz_2.name=ghz_1.name+\"_2\"\n",
    "ghz_3=transpile(ghz,backend,optimization_level=3)\n",
    "ghz_3.name=ghz_1.name+\"_3\"\n",
    "job=backend.run([ghz_0,ghz_1,ghz_2,ghz_3])\n",
    "plot_histogram(job.result().get_counts(), title=\"Comparing Optimisation\",legend=[ghz_0.name,ghz_1.name,ghz_2.name,ghz_3.name])"
   ]
  },
  {
   "cell_type": "code",
   "execution_count": null,
   "id": "84eb3873",
   "metadata": {},
   "outputs": [],
   "source": [
    "from qmiotools.data import QUBIT_POSITIONS\n",
    "pos=QUBIT_POSITIONS\n",
    "\n",
    "def plot_t1_colors(backend):\n",
    "    import matplotlib as mpl\n",
    "    from matplotlib.cm import ScalarMappable as SC\n",
    "    from matplotlib import colors\n",
    "\n",
    "    cmap = mpl.colormaps['plasma']\n",
    "\n",
    "    sc=SC(cmap=cmap)\n",
    "\n",
    "    T1s=[backend.qubit_properties(i).t1*1e4 for i in range(32)]\n",
    "    \n",
    "    col=sc.to_rgba(T1s)\n",
    "    q=[colors.to_hex(i) for i in col]\n",
    "    return q\n",
    "\n",
    "    \n",
    "\n",
    "plot_gate_map(backend, qubit_coordinates=pos,plot_directed=True,line_width=1,qubit_color=plot_t1_colors(backend))"
   ]
  },
  {
   "cell_type": "code",
   "execution_count": null,
   "id": "eabafe09",
   "metadata": {
    "scrolled": true
   },
   "outputs": [],
   "source": [
    "import matplotlib.pyplot as plt\n",
    "from qiskit import QuantumCircuit, transpile\n",
    "from qiskit.transpiler import CouplingMap\n",
    " \n",
    "#coupling_map = CouplingMap.from_heavy_hex(3)\n",
    "\n",
    " \n",
    "ghz = QuantumCircuit(15)\n",
    "ghz.h(0)\n",
    "ghz.cx(0, range(1, 15))\n",
    " \n",
    "depths = []\n",
    "for i in range(20):\n",
    "    depths.append(\n",
    "        transpile(\n",
    "            ghz,\n",
    "            backend,\n",
    "            seed_transpiler=i,\n",
    "            optimization_level=1,\n",
    "            #layout_method='trivial'  # Fixed layout mapped in circuit order\n",
    "        ).depth()\n",
    "    )\n",
    " \n",
    "plt.figure(figsize=(8, 6))\n",
    "plt.hist(depths, align='left', color='#AC557C')\n",
    "plt.xlabel('Depth', fontsize=14)\n",
    "plt.ylabel('Counts', fontsize=14);"
   ]
  },
  {
   "cell_type": "code",
   "execution_count": null,
   "id": "18ca6c69",
   "metadata": {},
   "outputs": [],
   "source": [
    "n=3\n",
    "wh = QuantumCircuit(n)\n",
    "for i in range(n):\n",
    "    wh.h(i)\n",
    "wh.measure_all()\n",
    "wh=transpile(wh,backend, optimization_level=2)\n",
    "#wh.draw(output=\"mpl\")"
   ]
  },
  {
   "cell_type": "code",
   "execution_count": null,
   "id": "4122573a",
   "metadata": {},
   "outputs": [],
   "source": [
    "job=backend.run(wh,shots=20000,repetition_period=400e-6)\n",
    "plot_histogram(job.result().get_counts())"
   ]
  },
  {
   "cell_type": "code",
   "execution_count": null,
   "id": "8ef78f10",
   "metadata": {},
   "outputs": [],
   "source": [
    "job=backend.run(wh,shots=20000,repetition_period=200e-6)\n",
    "plot_histogram(job.result().get_counts())"
   ]
  },
  {
   "cell_type": "code",
   "execution_count": null,
   "id": "17c8ea85",
   "metadata": {},
   "outputs": [],
   "source": []
  }
 ],
 "metadata": {
  "kernelspec": {
   "display_name": "Python 3 (ipykernel)",
   "language": "python",
   "name": "python3"
  },
  "language_info": {
   "codemirror_mode": {
    "name": "ipython",
    "version": 3
   },
   "file_extension": ".py",
   "mimetype": "text/x-python",
   "name": "python",
   "nbconvert_exporter": "python",
   "pygments_lexer": "ipython3",
   "version": "3.9.9"
  }
 },
 "nbformat": 4,
 "nbformat_minor": 5
}
